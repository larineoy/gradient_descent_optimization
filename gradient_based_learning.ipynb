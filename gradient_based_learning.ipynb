{
 "cells": [
  {
   "cell_type": "code",
   "execution_count": null,
   "metadata": {},
   "outputs": [],
   "source": [
    "import numpy as np\n",
    "import matplotlib.pyplot as plt\n",
    "%matplotlib inline"
   ]
  },
  {
   "cell_type": "code",
   "execution_count": null,
   "metadata": {},
   "outputs": [],
   "source": [
    "def poly_grad(coefs, x):\n",
    "    res = 0.0\n",
    "    for i in range(len(coefs)):\n",
    "        res += i * coefs[i] * (x**(i-1))\n",
    "    return res\n"
   ]
  },
  {
   "cell_type": "code",
   "execution_count": null,
   "metadata": {},
   "outputs": [],
   "source": [
    "def grad_descent(poly, step_size=0.1, iterations=10, x=100.):\n",
    "    x_list = [x]\n",
    "    for i in range(iterations):\n",
    "        x = x - (step_size * poly_grad(poly, x))\n",
    "        x_list.append(x)\n",
    "    return x_list\n"
   ]
  },
  {
   "cell_type": "code",
   "execution_count": null,
   "metadata": {},
   "outputs": [],
   "source": [
    "fig, ax = plt.subplots(figsize=(8, 8))\n",
    "\n",
    "x_list = grad_descent([15, 0, 2])\n",
    "colors = ['lightgreen'] + ['lightgray'] * (len(x_list) - 2) + ['r']\n",
    "\n",
    "ax.plot(np.linspace(-100, 100, 1001), 2*(np.linspace(-100, 100, 1001)**2) + 15)\n",
    "ax.plot(x_list, [2*(x**2) + 15 for x in x_list], c='r', ls='--')\n",
    "ax.scatter(x_list, [2*(x**2) + 15 for x in x_list], c=colors, s=100, zorder=1000)\n",
    "ax.text(-75, 20000, 'Start: {:.2f}'.format(x_list[0]), color='green')\n",
    "ax.text(-75, 19200, 'End:   {:.2f}'.format(x_list[-1]), color='red')\n",
    "ax.set_ylabel(r\"$L(x)$\")\n",
    "ax.set_xlabel(r\"$x$\");\n"
   ]
  },
  {
   "cell_type": "code",
   "execution_count": null,
   "metadata": {},
   "outputs": [],
   "source": [
    "fig, ax = plt.subplots(figsize=(8, 8))\n",
    "\n",
    "x_list = grad_descent([15, 0, 2], step_size=0.4)\n",
    "colors = ['lightgreen'] + ['lightgray'] * (len(x_list) - 2) + ['r']\n",
    "\n",
    "ax.plot(np.linspace(-100, 100, 1001), 2*(np.linspace(-100, 100, 1001)**2) + 15)\n",
    "ax.plot(x_list, [2*(x**2) + 15 for x in x_list], c='r', ls='--')\n",
    "ax.scatter(x_list, [2*(x**2) + 15 for x in x_list], c=colors, s=100, zorder=1000)\n",
    "ax.text(-75, 20000, 'Start: {:.2f}'.format(x_list[0]), color='green')\n",
    "ax.text(-75, 19200, 'End:   {:.2f}'.format(x_list[-1]), color='red')\n",
    "ax.set_ylabel(r\"$L(x)$\")\n",
    "ax.set_xlabel(r\"$x$\");\n"
   ]
  }
 ],
 "metadata": {
  "language_info": {
   "name": "python"
  }
 },
 "nbformat": 4,
 "nbformat_minor": 2
}
